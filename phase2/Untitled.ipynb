{
 "cells": [
  {
   "cell_type": "markdown",
   "id": "73344373-6a66-49bb-9ba3-1e888664c487",
   "metadata": {},
   "source": [
    "# Test sur les vitesses du robot"
   ]
  },
  {
   "cell_type": "code",
   "execution_count": 1,
   "id": "6da58a51-68b6-4b42-a839-78d95ba74a0d",
   "metadata": {},
   "outputs": [],
   "source": [
    "import numpy as np\n",
    "import matplotlib.pyplot as plt"
   ]
  },
  {
   "cell_type": "code",
   "execution_count": 2,
   "id": "628e6393-7a6d-421b-bc35-4eb1b3c64551",
   "metadata": {},
   "outputs": [
    {
     "name": "stdout",
     "output_type": "stream",
     "text": [
      "[0.   0.05]\n",
      "liste position :  [array([0, 0]), array([0.  , 0.05]), array([0.  , 0.35]), array([0. , 1.7]), array([0. , 7.9]), array([ 0.  , 40.15]), array([  0.  , 235.45]), array([   0., 1605.]), array([    0. , 12564.6]), array([     0.  , 111205.05]), array([      0.  , 1097614.55]), array([       0. , 11948125.1]), array([0.00000000e+00, 1.42154259e+08]), array([0.00000000e+00, 1.83483401e+09]), array([0.00000000e+00, 2.55323505e+10]), array([0.00000000e+00, 3.80995098e+11]), array([0.00000000e+00, 6.06839905e+12]), array([0.00000000e+00, 1.02754266e+14]), array([0.00000000e+00, 1.84309988e+15]), array([0.00000000e+00, 3.49096665e+16]), array([0.00000000e+00, 6.96240998e+17]), array([0.0000000e+00, 1.4584199e+19]), array([0.00000000e+00, 3.20119274e+20]), array([0.00000000e+00, 7.34742601e+21]), array([0.00000000e+00, 1.76002788e+23]), array([0.00000000e+00, 4.39238683e+24]), array([0.00000000e+00, 1.14018372e+26]), array([0.00000000e+00, 3.07391997e+27]), array([0.00000000e+00, 8.59511647e+28]), array([0.00000000e+00, 2.48939126e+30]), array([0.00000000e+00, 7.45925941e+31]), array([0.00000000e+00, 2.30979188e+33]), array([0.00000000e+00, 7.38361691e+34]), array([0.00000000e+00, 2.43420662e+36]), array([0.00000000e+00, 8.26868019e+37]), array([0.00000000e+00, 2.89152764e+39]), array([0.00000000e+00, 1.04009798e+41]), array([0.00000000e+00, 3.84538579e+42]), array([0.00000000e+00, 1.46017673e+44]), array([0.00000000e+00, 5.69073689e+45]), array([0.00000000e+00, 2.27479506e+47]), array([0.00000000e+00, 9.32081903e+48]), array([0.00000000e+00, 3.91241079e+50]), array([0.00000000e+00, 1.68138123e+52]), array([0.00000000e+00, 7.39406944e+53]), array([0.00000000e+00, 3.32560979e+55]), array([0.00000000e+00, 1.52902388e+57]), array([0.00000000e+00, 7.18301097e+58]), array([0.00000000e+00, 3.44628223e+60]), array([0.00000000e+00, 1.68794436e+62]), array([0.00000000e+00, 8.43620212e+63]), array([0.00000000e+00, 4.30073994e+65]), array([0.00000000e+00, 2.23552392e+67]), array([0.00000000e+00, 1.18438899e+69]), array([0.00000000e+00, 6.39342118e+70]), array([0.00000000e+00, 3.51517446e+72]), array([0.00000000e+00, 1.96784629e+74]), array([0.00000000e+00, 1.12131435e+76]), array([0.00000000e+00, 6.50161959e+77]), array([0.00000000e+00, 3.83481421e+79]), array([0.00000000e+00, 2.30022695e+81]), array([0.00000000e+00, 1.40274834e+83]), array([0.00000000e+00, 8.69470048e+84]), array([0.00000000e+00, 5.47623516e+86]), array([0.00000000e+00, 3.50390677e+88]), array([0.00000000e+00, 2.27698294e+90]), array([0.00000000e+00, 1.50245279e+92]), array([0.00000000e+00, 1.00641211e+94]), array([0.00000000e+00, 6.84207676e+95]), array([0.0000000e+00, 4.7200113e+97]), array([0.00000000e+00, 3.30331348e+99]), array([0.00000000e+000, 2.34487363e+101]), array([0.00000000e+000, 1.68797389e+103]), array([0.0000000e+000, 1.2319831e+105]), array([0.0000000e+000, 9.1149632e+106]), array([0.0000000e+000, 6.8349733e+108]), array([0.00000000e+000, 5.19365572e+110]), array([0.00000000e+000, 3.99842217e+112]), array([0.000000e+000, 3.118243e+114]), array([0.00000000e+000, 2.46300686e+116]), array([0.00000000e+000, 1.97008961e+118]), array([0.00000000e+000, 1.59552313e+120]), array([0.00000000e+000, 1.30812946e+122]), array([0.00000000e+000, 1.08558591e+124]), array([0.00000000e+000, 9.11759732e+125]), array([0.0000000e+000, 7.7488589e+127]), array([0.0000000e+000, 6.6630959e+129]), array([0.00000000e+000, 5.79610932e+131]), array([0.00000000e+000, 5.09990205e+133]), array([0.00000000e+000, 4.53832647e+135]), array([0.00000000e+000, 4.08397797e+137]), array([0.00000000e+000, 3.71596096e+139]), array([0.0000000e+000, 3.4182711e+141]), array([0.0000000e+000, 3.1786164e+143]), array([0.00000000e+000, 2.98755383e+145]), array([0.00000000e+000, 2.83785482e+147]), array([0.00000000e+000, 2.72403866e+149]), array([0.00000000e+000, 2.64203069e+151]), array([0.00000000e+000, 2.58891481e+153]), array([0.0000000e+000, 2.5627587e+155])]\n",
      "liste vitesse :  [0, array([0.  , 0.05]), array([0. , 0.3]), array([0.  , 1.35]), array([0. , 6.2]), array([ 0.  , 32.25]), array([  0. , 195.3]), array([   0.  , 1369.55]), array([    0. , 10959.6]), array([    0.  , 98640.45]), array([     0. , 986409.5]), array([       0.  , 10850510.55]), array([0.00000000e+00, 1.30206134e+08]), array([0.00000000e+00, 1.69267975e+09]), array([0.00000000e+00, 2.36975165e+10]), array([0.00000000e+00, 3.55462747e+11]), array([0.00000000e+00, 5.68740396e+12]), array([0.00000000e+00, 9.66858672e+13]), array([0.00000000e+00, 1.74034561e+15]), array([0.00000000e+00, 3.30665666e+16]), array([0.00000000e+00, 6.61331332e+17]), array([0.0000000e+00, 1.3887958e+19]), array([0.00000000e+00, 3.05535075e+20]), array([0.00000000e+00, 7.02730673e+21]), array([0.00000000e+00, 1.68655362e+23]), array([0.00000000e+00, 4.21638404e+24]), array([0.00000000e+00, 1.09625985e+26]), array([0.0000000e+00, 2.9599016e+27]), array([0.00000000e+00, 8.28772447e+28]), array([0.0000000e+00, 2.4034401e+30]), array([0.00000000e+00, 7.21032029e+31]), array([0.00000000e+00, 2.23519929e+33]), array([0.00000000e+00, 7.15263773e+34]), array([0.00000000e+00, 2.36037045e+36]), array([0.00000000e+00, 8.02525953e+37]), array([0.00000000e+00, 2.80884083e+39]), array([0.0000000e+00, 1.0111827e+41]), array([0.00000000e+00, 3.74137599e+42]), array([0.00000000e+00, 1.42172288e+44]), array([0.00000000e+00, 5.54471922e+45]), array([0.00000000e+00, 2.21788769e+47]), array([0.00000000e+00, 9.09333952e+48]), array([0.0000000e+00, 3.8192026e+50]), array([0.00000000e+00, 1.64225712e+52]), array([0.00000000e+00, 7.22593132e+53]), array([0.00000000e+00, 3.25166909e+55]), array([0.00000000e+00, 1.49576778e+57]), array([0.00000000e+00, 7.03010858e+58]), array([0.00000000e+00, 3.37445212e+60]), array([0.00000000e+00, 1.65348154e+62]), array([0.00000000e+00, 8.26740769e+63]), array([0.00000000e+00, 4.21637792e+65]), array([0.00000000e+00, 2.19251652e+67]), array([0.00000000e+00, 1.16203375e+69]), array([0.00000000e+00, 6.27498228e+70]), array([0.00000000e+00, 3.45124025e+72]), array([0.00000000e+00, 1.93269454e+74]), array([0.00000000e+00, 1.10163589e+76]), array([0.00000000e+00, 6.38948815e+77]), array([0.00000000e+00, 3.76979801e+79]), array([0.00000000e+00, 2.26187881e+81]), array([0.00000000e+00, 1.37974607e+83]), array([0.00000000e+00, 8.55442565e+84]), array([0.00000000e+00, 5.38928816e+86]), array([0.00000000e+00, 3.44914442e+88]), array([0.00000000e+00, 2.24194387e+90]), array([0.00000000e+00, 1.47968296e+92]), array([0.00000000e+00, 9.91387581e+93]), array([0.00000000e+00, 6.74143555e+95]), array([0.00000000e+00, 4.65159053e+97]), array([0.00000000e+00, 3.25611337e+99]), array([0.00000000e+000, 2.31184049e+101]), array([0.00000000e+000, 1.66452515e+103]), array([0.00000000e+000, 1.21510336e+105]), array([0.00000000e+000, 8.99176489e+106]), array([0.00000000e+000, 6.74382366e+108]), array([0.00000000e+000, 5.12530599e+110]), array([0.00000000e+000, 3.94648561e+112]), array([0.00000000e+000, 3.07825877e+114]), array([0.00000000e+000, 2.43182443e+116]), array([0.00000000e+000, 1.94545955e+118]), array([0.00000000e+000, 1.57582223e+120]), array([0.00000000e+000, 1.29217423e+122]), array([0.00000000e+000, 1.07250461e+124]), array([0.00000000e+000, 9.00903873e+125]), array([0.00000000e+000, 7.65768292e+127]), array([0.00000000e+000, 6.58560731e+129]), array([0.00000000e+000, 5.72947836e+131]), array([0.00000000e+000, 5.04194096e+133]), array([0.00000000e+000, 4.48732745e+135]), array([0.00000000e+000, 4.03859471e+137]), array([0.00000000e+000, 3.67512118e+139]), array([0.00000000e+000, 3.38111149e+141]), array([0.00000000e+000, 3.14443369e+143]), array([0.00000000e+000, 2.95576766e+145]), array([0.00000000e+000, 2.80797928e+147]), array([0.00000000e+000, 2.69566011e+149]), array([0.00000000e+000, 2.61479031e+151]), array([0.0000000e+000, 2.5624945e+153])]\n",
      "[0.   0.05] [0.   0.15]\n"
     ]
    }
   ],
   "source": [
    "\n",
    "\n",
    "vecteur_directeur = np.array([0,1])\n",
    "\n",
    "position_robot = np.array([0,0])\n",
    "\n",
    "# x(t) = x_0 + v_{x0}*t+(1/2)a_{x0}*t^2\n",
    "\n",
    "\n",
    "accel = 0.1 # m.s^-2\n",
    "liste_v = [0]\n",
    "liste_pos = [position_robot]\n",
    "liste_t = np.arange(0,100)\n",
    "\n",
    "\n",
    "t_1 = 1\n",
    "x_1 = vecteur_directeur * (liste_pos[0] + liste_v[0] * t_1 + (1/2) * accel * t_1**2)\n",
    "\n",
    "\n",
    "\n",
    "print(x_1)\n",
    "\n",
    "\n",
    "t = 1\n",
    "\n",
    "t_2 = 2\n",
    "x_2 = vecteur_directeur * (x_1 + (position_robot - x_1) * t_2 + (1/2) * accel * t_2**2)\n",
    "\n",
    "liste_pos.append(x_1)\n",
    "\n",
    "for i in range(2,100) :\n",
    "    liste_pos.append( vecteur_directeur * (liste_pos[i-1] + (liste_pos[i-1] - liste_pos[i-2]) * liste_t[i] + (1/2) * accel * liste_t[i]**2) )\n",
    "    liste_v.append( (liste_pos[i-1] - liste_pos[i-2])  )\n",
    "\n",
    "print(\"liste position : \",liste_pos)\n",
    "print(\"liste vitesse : \",liste_v)\n",
    "\n",
    "\n",
    "\n",
    "\n",
    "\n",
    "print(x_1,x_2)\n"
   ]
  },
  {
   "cell_type": "code",
   "execution_count": 3,
   "id": "50077296-99b9-4c31-9ca9-4fdbeaa693c3",
   "metadata": {},
   "outputs": [
    {
     "data": {
      "text/plain": [
       "array([-0.25,  0.25])"
      ]
     },
     "execution_count": 3,
     "metadata": {},
     "output_type": "execute_result"
    }
   ],
   "source": [
    "np.array([-1,1]) * np.array([0.25, 0.25])"
   ]
  },
  {
   "cell_type": "code",
   "execution_count": 4,
   "id": "36b52107-cb92-42e2-9c75-1496d93dcbdb",
   "metadata": {},
   "outputs": [
    {
     "name": "stdout",
     "output_type": "stream",
     "text": [
      "22.494443758403985\n"
     ]
    }
   ],
   "source": [
    "F = np.array([8,19,9])\n",
    "\n",
    "nF = np.linalg.norm(F)\n",
    "\n",
    "print(nF)"
   ]
  },
  {
   "cell_type": "code",
   "execution_count": 5,
   "id": "c637bb41-c5e3-478c-a728-6b8a52982a92",
   "metadata": {},
   "outputs": [],
   "source": [
    "angleF = np.arccos((F / nF)) "
   ]
  },
  {
   "cell_type": "code",
   "execution_count": 6,
   "id": "1b6441b8-8761-4bf6-bbcb-8a7a8a3a3aad",
   "metadata": {},
   "outputs": [
    {
     "name": "stdout",
     "output_type": "stream",
     "text": [
      "[69.16711923 32.36522042 66.41564479]\n"
     ]
    }
   ],
   "source": [
    "print(np.degrees(angleF))"
   ]
  },
  {
   "cell_type": "code",
   "execution_count": 7,
   "id": "16242706-fce7-47c5-957e-4a660324a4fd",
   "metadata": {},
   "outputs": [
    {
     "name": "stdout",
     "output_type": "stream",
     "text": [
      "0.35564337957950964\n"
     ]
    }
   ],
   "source": [
    "print(8/np.sqrt(506))"
   ]
  },
  {
   "cell_type": "code",
   "execution_count": 8,
   "id": "887fd57b-07d1-4028-86eb-1e8e7b5616f1",
   "metadata": {},
   "outputs": [
    {
     "name": "stdout",
     "output_type": "stream",
     "text": [
      "[0.35564338 0.84465303 0.4000988 ]\n"
     ]
    }
   ],
   "source": [
    "print(F / nF)"
   ]
  },
  {
   "cell_type": "code",
   "execution_count": 9,
   "id": "d4cfafa3-e413-48b0-8658-7c8261e25b45",
   "metadata": {},
   "outputs": [],
   "source": [
    "# rad -> vector\n",
    "\n",
    "rad = 0.4\n",
    "v = [np.cos(rad),np.sin(rad)]"
   ]
  },
  {
   "cell_type": "code",
   "execution_count": 10,
   "id": "b706e3f3-e372-4cf6-b171-e5426d737452",
   "metadata": {},
   "outputs": [
    {
     "name": "stdout",
     "output_type": "stream",
     "text": [
      "[0.9210609940028851, 0.3894183423086505]\n"
     ]
    }
   ],
   "source": [
    "print(v)"
   ]
  },
  {
   "cell_type": "code",
   "execution_count": 11,
   "id": "a7c06308-a22c-4434-aee6-d8433b6aedf5",
   "metadata": {},
   "outputs": [
    {
     "name": "stdout",
     "output_type": "stream",
     "text": [
      "alpha :  [0.99995    0.00999983]\n",
      " test :  [1.57079633 0.        ]\n",
      "en degrees :  [90.  0.]\n",
      "en rad result:  [1.57579633 0.78039816]\n",
      "t :  [nan, 0.8953023376495163]\n",
      "somme : 1.339924978575174\n",
      "en cos :  -0.004999979166693429    0.7106334615447568\n",
      "en degrees :  [35.78919767 51.74538357]\n"
     ]
    },
    {
     "name": "stderr",
     "output_type": "stream",
     "text": [
      "/tmp/ipykernel_164476/4171574812.py:18: RuntimeWarning: invalid value encountered in arccos\n",
      "  print(\"t : \",[np.arccos(result[0]), np.arcsin(result[1])])\n"
     ]
    }
   ],
   "source": [
    "\n",
    "vecteur_directeur = np.array([0,1])\n",
    "\n",
    "w_accel_rad = 0.01\n",
    "alpha = np.array([np.cos(w_accel_rad),np.sin(w_accel_rad)])\n",
    "\n",
    "\n",
    "\n",
    "print(\"alpha : \",alpha)\n",
    "print(\" test : \",np.arccos((vecteur_directeur / np.linalg.norm(vecteur_directeur)))   )\n",
    "print(\"en degrees : \",  np.degrees(  np.arccos((vecteur_directeur / np.linalg.norm(vecteur_directeur)))   )  )\n",
    "\n",
    "accel = (1/2) * np.arccos((alpha / np.linalg.norm(alpha))) # rad\n",
    "\n",
    "result = np.arccos((vecteur_directeur / np.linalg.norm(vecteur_directeur))) + accel # rad + rad = rad\n",
    "\n",
    "print(\"en rad result: \",result)\n",
    "\n",
    "print(\"t : \",[np.arccos(result[0]), np.arcsin(result[1])])\n",
    "print(\"somme :\",(result/ np.linalg.norm(result)).sum())\n",
    "print(\"en cos : \",np.cos(result[0]),\"  \",np.cos(result[1])) \n",
    "\n",
    "print(\"en degrees : \",np.degrees(np.cos(result/ np.linalg.norm(result))))\n"
   ]
  },
  {
   "cell_type": "code",
   "execution_count": 12,
   "id": "2ba954e4-6f5b-4982-87ca-c1161764f3bf",
   "metadata": {},
   "outputs": [
    {
     "data": {
      "image/png": "[encoded data removed]",
      "text/plain": [
       "<Figure size 432x288 with 1 Axes>"
      ]
     },
     "metadata": {
      "needs_background": "light"
     },
     "output_type": "display_data"
    }
   ],
   "source": [
    "plt.figure()\n",
    "plt.plot([0,vecteur_directeur[0]],[0,vecteur_directeur[1]])\n",
    "plt.plot([0,np.cos(result)[0]],[0,np.cos(result)[1]])\n",
    "plt.show()"
   ]
  },
  {
   "cell_type": "code",
   "execution_count": 13,
   "id": "51d92737-282f-440a-850f-17ab3727648b",
   "metadata": {},
   "outputs": [
    {
     "name": "stdout",
     "output_type": "stream",
     "text": [
      "Vecteur directeur :  [0 1]\n",
      "Vecteur acceleration :  [0.99995    0.00999983]\n",
      "Vecteur somme =  [0.99995    1.00999983]\n",
      "Vecteur normalisation =  [0.70356242 0.71063346]\n"
     ]
    }
   ],
   "source": [
    "print(\"Vecteur directeur : \",vecteur_directeur)\n",
    "print(\"Vecteur acceleration : \",alpha)\n",
    "somme = vecteur_directeur + alpha\n",
    "normalisation = somme / np.linalg.norm(somme)\n",
    "\n",
    "print(\"Vecteur somme = \",somme)\n",
    "print(\"Vecteur normalisation = \",normalisation)"
   ]
  },
  {
   "cell_type": "code",
   "execution_count": 14,
   "id": "256cf008-945a-4b7d-9d98-3cf0c93e7be8",
   "metadata": {},
   "outputs": [
    {
     "name": "stdout",
     "output_type": "stream",
     "text": [
      "Premier test\n",
      "Angle courant en radian :  1.5707963267948966\n",
      "Valeur de l'angle courant en vecteur :  [6.123234e-17 1.000000e+00]\n",
      "Pas en radian :  0.1\n",
      "Mise a jour --------------\n",
      "Angle en radian apres mise a jour :  1.6707963267948966\n",
      "Valeur de l'angle en vecteur apres mise a jour :  [-0.09983342  0.99500417]\n"
     ]
    },
    {
     "data": {
      "image/png": "[encoded data removed]",
      "text/plain": [
       "<Figure size 432x288 with 1 Axes>"
      ]
     },
     "metadata": {
      "needs_background": "light"
     },
     "output_type": "display_data"
    },
    {
     "name": "stdout",
     "output_type": "stream",
     "text": [
      "Second test\n"
     ]
    },
    {
     "data": {
      "image/png": "[encoded data removed]",
      "text/plain": [
       "<Figure size 432x288 with 1 Axes>"
      ]
     },
     "metadata": {
      "needs_background": "light"
     },
     "output_type": "display_data"
    }
   ],
   "source": [
    "\"\"\"\n",
    "Fonction qui prend un rad avec un pas et qui renvoit radian\n",
    "\"\"\"\n",
    "current_rad =  np.pi / 2\n",
    "\n",
    "step = 0.1\n",
    "\n",
    "def updateRadian(current_rad,step):\n",
    "    return ( current_rad + step ) % (2 * np.pi)\n",
    "\n",
    "\n",
    "\"\"\"\n",
    "Fonction qui prend un rad et qui renvoit un vecteur directeur\n",
    "\"\"\"\n",
    "\n",
    "def radToVectorDirector(rad):\n",
    "    return np.array([np.cos(rad),np.sin(rad)])\n",
    "\n",
    "\n",
    "\n",
    "\n",
    "\"\"\"\n",
    "Tests mise a jour d'un angle\n",
    "\"\"\"\n",
    "print(\"Premier test\")\n",
    "print(\"Angle courant en radian : \",current_rad)\n",
    "print(\"Valeur de l'angle courant en vecteur : \",radToVectorDirector(current_rad))\n",
    "print(\"Pas en radian : \",step)\n",
    "print(\"Mise a jour --------------\")\n",
    "print(\"Angle en radian apres mise a jour : \",updateRadian(current_rad,step))\n",
    "print(\"Valeur de l'angle en vecteur apres mise a jour : \",radToVectorDirector(updateRadian(current_rad,step)))\n",
    "\n",
    "plt.figure()\n",
    "plt.scatter(radToVectorDirector(current_rad)[0],radToVectorDirector(current_rad)[1])\n",
    "plt.scatter(radToVectorDirector(updateRadian(current_rad,step))[0],radToVectorDirector(updateRadian(current_rad,step))[1])\n",
    "plt.show()\n",
    "\n",
    "\n",
    "print(\"Second test\")\n",
    "\n",
    "\"\"\"\n",
    "Test sur la génération de 100 points\n",
    "\"\"\"\n",
    "\n",
    "liste_rads = [current_rad]\n",
    "liste_vector = [radToVectorDirector(current_rad)]\n",
    "\n",
    "for i in range(1,100):\n",
    "    radian = updateRadian(liste_rads[i-1],step)\n",
    "    liste_rads.append(  radian  )\n",
    "    liste_vector.append( radToVectorDirector(radian)  )\n",
    "    \n",
    "plt.figure()\n",
    "plt.title(\"Génération de 100 points avec l'algorithme de rotation\")\n",
    "plt.xlabel(\"cos(rad)\")\n",
    "plt.ylabel(\"sin(rad)\")\n",
    "plt.scatter(np.array(liste_vector)[:,0],np.array(liste_vector)[:,1])\n",
    "plt.show()"
   ]
  },
  {
   "cell_type": "code",
   "execution_count": 15,
   "id": "a1171daf-5429-4630-9fe2-0e4c05f34a3e",
   "metadata": {},
   "outputs": [
    {
     "name": "stdout",
     "output_type": "stream",
     "text": [
      "valeur radian :  4.8\n",
      "valeur vecteur :  [ 0.08749898 -0.99616461]\n"
     ]
    }
   ],
   "source": [
    "rad = 4.8\n",
    "\n",
    "def radToVectorDirector(rad):\n",
    "    if rad >= 0 and rad <= np.pi/2 :\n",
    "        return np.array([np.cos(rad),np.sin(rad)])\n",
    "    else :\n",
    "        return np.array([np.cos(rad),np.sin(rad)])\n",
    "\n",
    "vect = radToVectorDirector(rad)\n",
    "\n",
    "print(\"valeur radian : \",rad)\n",
    "print(\"valeur vecteur : \",np.array([np.cos(rad),np.sin(rad)]))"
   ]
  },
  {
   "cell_type": "code",
   "execution_count": 16,
   "id": "16528cff-7d1a-4cbf-8e3d-0bafaf1387a3",
   "metadata": {},
   "outputs": [
    {
     "data": {
      "image/png": "[encoded data removed]",
      "text/plain": [
       "<Figure size 432x288 with 1 Axes>"
      ]
     },
     "metadata": {
      "needs_background": "light"
     },
     "output_type": "display_data"
    }
   ],
   "source": [
    "plt.figure()\n",
    "plt.plot([0,vect[0]],[0,vect[1]])\n",
    "plt.show()"
   ]
  },
  {
   "cell_type": "markdown",
   "id": "bf5b09c7-6192-4fe8-9c52-1d92baf647dc",
   "metadata": {},
   "source": [
    "# Test sur la correction d'un angle"
   ]
  },
  {
   "cell_type": "code",
   "execution_count": 17,
   "id": "fb9c1fdf-cd7c-4a8e-b4c2-074be0a00fc1",
   "metadata": {},
   "outputs": [],
   "source": [
    "# CALCUL COEFFICCIENT DIRECTEUR \n",
    "\n",
    "def coefDirecteurDroite(P1 , P2) :\n",
    "    print(\"(P2[1] - P1[1]) = \",(P2[1] - P1[1]))\n",
    "    print(\"( (P2[0] - P1[0]) = \",( (P2[0] - P1[0])))\n",
    "    return (P2[1] - P1[1]) / ( (P2[0] - P1[0]) +1e-10)\n",
    "\n",
    "def ordonne(P1, P2):\n",
    "    return (P1[1] - (coefDirecteurDroite(P1,P2) * P1[0]))\n",
    "\n",
    "def affine(a,x,b) :\n",
    "    return (a * x) + b\n",
    "\n",
    "def radToVectorDirector(value):\n",
    "        return np.array([np.cos(value),np.sin(value)])\n",
    "    \n",
    "def angle_of_vector(v1, v2):\n",
    "    vector_prod = v1[0] * v2[0] + v1[1] * v2[1]\n",
    "    length_prod = np.sqrt(np.power(v1[0], 2) + np.power(v1[1], 2)) * np.sqrt(np.power(v2[0], 2) + np.power(v2[1], 2))\n",
    "    cos = vector_prod * 1.0 / (length_prod * 1.0 + 1e-6)\n",
    "    return np.arccos(cos),np.arcsin(cos)"
   ]
  },
  {
   "cell_type": "code",
   "execution_count": 18,
   "id": "a64503b8-da2b-494d-b321-b35fa817e8ad",
   "metadata": {},
   "outputs": [],
   "source": [
    "pointInitial = np.array([0,0])\n",
    "pointFinal = np.array([5,5])\n",
    "rad =  3 * np.pi / 2 \n",
    "vecteurDirecteur = radToVectorDirector(rad)\n",
    "\n",
    "\n",
    "def y(x) :\n",
    "    return affine(coefDirecteurDroite(pointInitial,pointFinal),x,ordonne(pointInitial,pointFinal))"
   ]
  },
  {
   "cell_type": "code",
   "execution_count": 19,
   "id": "044486b0-ba7c-4e87-b63d-fedf7cd42e89",
   "metadata": {},
   "outputs": [
    {
     "name": "stdout",
     "output_type": "stream",
     "text": [
      "(P2[1] - P1[1]) =  5\n",
      "( (P2[0] - P1[0]) =  5\n",
      "(P2[1] - P1[1]) =  5\n",
      "( (P2[0] - P1[0]) =  5\n"
     ]
    },
    {
     "data": {
      "image/png": "[encoded data removed]",
      "text/plain": [
       "<Figure size 432x288 with 1 Axes>"
      ]
     },
     "metadata": {
      "needs_background": "light"
     },
     "output_type": "display_data"
    }
   ],
   "source": [
    "# Affichage\n",
    "\n",
    "plt.figure()\n",
    "plt.scatter(pointInitial[0],pointInitial[1])\n",
    "plt.scatter(pointFinal[0],pointFinal[1])\n",
    "plt.plot([0,vecteurDirecteur[0]],[0,vecteurDirecteur[1]])\n",
    "plt.plot(np.arange(pointFinal[0]+1),y(np.arange(pointFinal[0]+1)))\n",
    "plt.show()"
   ]
  },
  {
   "cell_type": "code",
   "execution_count": 20,
   "id": "d4dbe73f-f1bb-4731-a6fc-81b94c2d114a",
   "metadata": {},
   "outputs": [
    {
     "name": "stdout",
     "output_type": "stream",
     "text": [
      "(P2[1] - P1[1]) =  5\n",
      "( (P2[0] - P1[0]) =  5\n",
      "(P2[1] - P1[1]) =  -1.0\n",
      "( (P2[0] - P1[0]) =  -1.8369701987210297e-16\n"
     ]
    }
   ],
   "source": [
    "a1 = coefDirecteurDroite(pointInitial,pointFinal)\n",
    "a2 = coefDirecteurDroite([0,0],vecteurDirecteur)\n",
    "\n",
    "alpha = np.arctan((a2 - a1)/(1 + (a1 * a2)))"
   ]
  },
  {
   "cell_type": "code",
   "execution_count": 21,
   "id": "f294a49f-2a39-4d57-8f31-c3c2cee202b1",
   "metadata": {},
   "outputs": [
    {
     "name": "stdout",
     "output_type": "stream",
     "text": [
      "test :  2.356194490192345\n",
      "Vecteur directeur :  [-1.8369702e-16 -1.0000000e+00]\n",
      "Coefficient directeur de la droite 1 :  0.99999999998\n",
      "Coefficient directeur de la droite 2 :  -10000018369.735731\n",
      "angle des deux vecteurs :  (2.3561943487710186, -0.7853980219761222)\n",
      "Valeur d'angle en radian :  0.7853981635074481\n",
      "Valeur d'angle en degree :  45.00000000630252\n"
     ]
    }
   ],
   "source": [
    "import math\n",
    "\n",
    "angle = math.atan2(pointFinal[1], pointFinal[0]) - math.atan2(vecteurDirecteur[1], vecteurDirecteur[0]);\n",
    "\n",
    "print(\"test : \",angle)\n",
    "print(\"Vecteur directeur : \",vecteurDirecteur)\n",
    "print(\"Coefficient directeur de la droite 1 : \",a1)\n",
    "print(\"Coefficient directeur de la droite 2 : \",a2)\n",
    "print(\"angle des deux vecteurs : \",angle_of_vector(vecteurDirecteur, pointFinal))\n",
    "print(\"Valeur d'angle en radian : \",alpha)\n",
    "print(\"Valeur d'angle en degree : \",np.degrees(alpha))"
   ]
  },
  {
   "cell_type": "code",
   "execution_count": 22,
   "id": "77294967-9fe5-4e3d-951a-dfb03d777f8f",
   "metadata": {},
   "outputs": [],
   "source": [
    "def getDirection(destination) :\n",
    "    angle = math.atan2(destination[1], destination[0]) - math.atan2(vecteurDirecteur[1], vecteurDirecteur[0])\n",
    "    if angle < 0 :\n",
    "        return \"DROITE\"\n",
    "    else :\n",
    "        return \"GAUCHE\""
   ]
  },
  {
   "cell_type": "code",
   "execution_count": 23,
   "id": "bbfeb9c4-2bad-43ea-b401-7e93552a75c2",
   "metadata": {},
   "outputs": [
    {
     "data": {
      "text/plain": [
       "'GAUCHE'"
      ]
     },
     "execution_count": 23,
     "metadata": {},
     "output_type": "execute_result"
    }
   ],
   "source": [
    "getDirection(pointFinal)"
   ]
  },
  {
   "cell_type": "code",
   "execution_count": 24,
   "id": "e9cac020-3eab-4652-9ce2-d8bfd4a61c14",
   "metadata": {},
   "outputs": [],
   "source": [
    "step = 0.1\n",
    "list_vect = []\n",
    "directionInitial = vecteurDirecteur\n",
    "for i in range(100) :\n",
    "    if getDirection(pointFinal-pointInitial) == \"GAUCHE\" :\n",
    "        rad = (rad + step ) % (2 * np.pi)\n",
    "        list_vect.append( radToVectorDirector(rad) )\n",
    "    else : \n",
    "        rad = (rad - step ) % (2 * np.pi)\n",
    "        list_vect.append( radToVectorDirector(rad) )\n",
    "    vecteurDirecteur = radToVectorDirector(rad)\n",
    "list_vect = np.array(list_vect)"
   ]
  },
  {
   "cell_type": "code",
   "execution_count": 25,
   "id": "009b928e-ef56-4c1f-a68d-9cf4a79c4a59",
   "metadata": {},
   "outputs": [
    {
     "name": "stdout",
     "output_type": "stream",
     "text": [
      "(P2[1] - P1[1]) =  5\n",
      "( (P2[0] - P1[0]) =  5\n",
      "(P2[1] - P1[1]) =  5\n",
      "( (P2[0] - P1[0]) =  5\n"
     ]
    },
    {
     "data": {
      "image/png": "[encoded data removed]",
      "text/plain": [
       "<Figure size 432x288 with 1 Axes>"
      ]
     },
     "metadata": {
      "needs_background": "light"
     },
     "output_type": "display_data"
    }
   ],
   "source": [
    "plt.figure()\n",
    "plt.title(\"Procédure de reajustement de la direction avec une destination\")\n",
    "plt.xlabel(\"x\")\n",
    "plt.ylabel(\"y\")\n",
    "plt.plot([0,directionInitial[0]],[0,directionInitial[1]],label = \"direction initial\")\n",
    "plt.scatter(list_vect[:,0],list_vect[:,1],label = \"changement de direction\")\n",
    "plt.plot(np.arange(pointFinal[0]+1),y(np.arange(pointFinal[0]+1)),label = \"direction a adopte\")\n",
    "plt.plot()\n",
    "plt.legend()\n",
    "plt.show()"
   ]
  },
  {
   "cell_type": "code",
   "execution_count": 26,
   "id": "5f67f756-dd33-4588-8ae8-6be854bac27a",
   "metadata": {},
   "outputs": [
    {
     "name": "stdout",
     "output_type": "stream",
     "text": [
      "[4.0015329]\n",
      "[-13.47464132]\n"
     ]
    }
   ],
   "source": [
    "v = np.array([-0.97753012 -0.2107958 ])\n",
    "l = np.array([-2.49688535 -0.87048452])\n",
    "\n",
    "v = v * l\n",
    "\n",
    "print(v)\n",
    "\n",
    "print(v * l)"
   ]
  },
  {
   "cell_type": "markdown",
   "id": "a65ae1b0-beac-4eb4-a6e5-59c99c66d2bc",
   "metadata": {},
   "source": [
    "# Test"
   ]
  },
  {
   "cell_type": "code",
   "execution_count": 27,
   "id": "dc70ec62-1c7d-4a43-8e8e-938f75acc17f",
   "metadata": {},
   "outputs": [],
   "source": [
    "pointInitial = np.array([5,5])\n",
    "pointFinal = np.array([0,0])\n",
    "rad =  np.pi / 4\n",
    "vecteurDirecteur = radToVectorDirector(rad)"
   ]
  },
  {
   "cell_type": "code",
   "execution_count": 28,
   "id": "a05e05ac-bf8b-4df1-bb05-ae9f33f7a5d5",
   "metadata": {},
   "outputs": [],
   "source": [
    "step = 0.1\n",
    "list_vect = []\n",
    "directionInitial = vecteurDirecteur\n",
    "for i in range(100) :\n",
    "    if getDirection(pointFinal-pointInitial) == \"GAUCHE\" :\n",
    "        rad = (rad + step ) % (2 * np.pi)\n",
    "        list_vect.append( radToVectorDirector(rad) )\n",
    "    else : \n",
    "        rad = (rad - step ) % (2 * np.pi)\n",
    "        list_vect.append( radToVectorDirector(rad) )\n",
    "    vecteurDirecteur = radToVectorDirector(rad)\n",
    "list_vect = np.array(list_vect)"
   ]
  },
  {
   "cell_type": "code",
   "execution_count": 29,
   "id": "0014646a-fd6e-4459-b83d-2826c7a747cf",
   "metadata": {},
   "outputs": [
    {
     "data": {
      "image/png": "[encoded data removed]",
      "text/plain": [
       "<Figure size 432x288 with 1 Axes>"
      ]
     },
     "metadata": {
      "needs_background": "light"
     },
     "output_type": "display_data"
    }
   ],
   "source": [
    "plt.figure()\n",
    "plt.title(\"Procédure de reajustement de la direction avec une destination\")\n",
    "plt.xlabel(\"x\")\n",
    "plt.ylabel(\"y\")\n",
    "plt.plot([5,5+directionInitial[0]],[5,5+directionInitial[1]],label = \"direction initial\")\n",
    "plt.scatter(5+list_vect[:,0],5+list_vect[:,1],label = \"changement de direction\")\n",
    "plt.plot( [5,0] , [5,0] ,label = \"direction a adopte\" )\n",
    "plt.legend()\n",
    "plt.show()"
   ]
  },
  {
   "cell_type": "code",
   "execution_count": 30,
   "id": "f7563834-1381-4e20-85f2-3158446f1e54",
   "metadata": {},
   "outputs": [
    {
     "data": {
      "text/plain": [
       "3.3464944418629567"
      ]
     },
     "execution_count": 30,
     "metadata": {},
     "output_type": "execute_result"
    }
   ],
   "source": [
    "### test\n",
    "\n",
    "v1 = [5+directionInitial[0] , 5+directionInitial[1]]\n",
    "\n",
    "destination = pointFinal-pointInitial\n",
    "\n",
    "np.degrees(np.arccos( (np.dot(destination,vecteurDirecteur)) / (np.linalg.norm(destination) * np.linalg.norm(vecteurDirecteur) ) ))"
   ]
  },
  {
   "cell_type": "code",
   "execution_count": 103,
   "id": "461d8f73-9740-41ce-b58f-ca145b197b22",
   "metadata": {},
   "outputs": [],
   "source": [
    "def getDirection(destination) :\n",
    "    angle = abs(np.arccos( (np.dot(destination,vecteurDirecteur)) / (np.linalg.norm(destination) * np.linalg.norm(vecteurDirecteur))))\n",
    "    vecteurDirecteurTest = radToVectorDirector((rad + step ) % (2 * np.pi))\n",
    "    angle2 = abs(np.arccos( (np.dot(destination,vecteurDirecteurTest)) / (np.linalg.norm(destination) * np.linalg.norm(vecteurDirecteurTest))))\n",
    "    \n",
    "    if np.degrees(angle) < np.degrees(angle2) :\n",
    "        return \"DROITE\"\n",
    "    else :\n",
    "        return \"GAUCHE\""
   ]
  },
  {
   "cell_type": "markdown",
   "id": "5a03a566-0cd2-4ead-8ad4-449ae0f2c106",
   "metadata": {},
   "source": [
    "# Test sur la mesure de vitesse entre DBR et DBRA"
   ]
  },
  {
   "cell_type": "code",
   "execution_count": null,
   "id": "d89cf5c8-082a-4759-89b1-5ee46ebf0826",
   "metadata": {},
   "outputs": [],
   "source": [
    "list_DBR = []"
   ]
  },
  {
   "cell_type": "code",
   "execution_count": null,
   "id": "86771995-3a16-49f0-a8ca-0b72cd9beb62",
   "metadata": {},
   "outputs": [],
   "source": [
    "list_DBRA = [16.734833478927612, 17.215032815933228, 17.164926528930664, 17.29863739013672, 17.334763288497925, 17.076171875, 17.334575414657593, 17.58643341064453, 17.332484483718872, 17.222574472427368, 17.26339077949524, 17.309082746505737, 17.4405620098114, 17.16693115234375, 17.28924584388733, 17.529473543167114, 17.204212427139282, 17.326828956604004, 17.22362995147705, 17.410802125930786, 17.284846305847168, 17.399797439575195, 17.331153869628906, 17.413604736328125, 17.415351152420044, 17.18781805038452]"
   ]
  },
  {
   "cell_type": "code",
   "execution_count": null,
   "id": "e39c56d6-dc9d-4830-9989-425ec0065992",
   "metadata": {},
   "outputs": [],
   "source": [
    "plt.figure()\n",
    "plt.title(\"Mesure de temps par tour : DBR vs DBRA\")\n",
    "plt.plot(list_DBR, label=\"DBR\")\n",
    "plt.plot(list_DBRA, label=\"DBRA\")\n",
    "plt.xlabel(\"tour\")\n",
    "plt.ylabel(\"temps (ms)\")\n",
    "plt.legend()\n",
    "plt.show()"
   ]
  }
 ],
 "metadata": {
  "kernelspec": {
   "display_name": "Python 3 (ipykernel)",
   "language": "python",
   "name": "python3"
  },
  "language_info": {
   "codemirror_mode": {
    "name": "ipython",
    "version": 3
   },
   "file_extension": ".py",
   "mimetype": "text/x-python",
   "name": "python",
   "nbconvert_exporter": "python",
   "pygments_lexer": "ipython3",
   "version": "3.8.10"
  }
 },
 "nbformat": 4,
 "nbformat_minor": 5
}
